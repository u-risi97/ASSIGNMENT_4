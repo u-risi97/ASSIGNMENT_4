{
 "cells": [
  {
   "cell_type": "code",
   "execution_count": 14,
   "id": "c7948456-99ec-4ddd-927f-bb4b91ea9b44",
   "metadata": {},
   "outputs": [
    {
     "name": "stdout",
     "output_type": "stream",
     "text": [
      "[('Virat Kohli', 24936), ('Jack Kallis', 25534), ('Ricky Ponting', 27483), ('Sachin Tendulkar', 34357)]\n"
     ]
    }
   ],
   "source": [
    "#ans 1\n",
    "l=[(\"Sachin Tendulkar\",34357),(\"Ricky Ponting\",27483),(\"Jack Kallis\",25534),(\"Virat Kohli\",24936)]\n",
    "l.sort(key=lambda l:l[1])\n",
    "print(l)\n"
   ]
  },
  {
   "cell_type": "code",
   "execution_count": 11,
   "id": "a2333b8b-c2b2-42f7-931c-497e145260d5",
   "metadata": {},
   "outputs": [
    {
     "name": "stdout",
     "output_type": "stream",
     "text": [
      "[1, 4, 9, 16, 25, 36, 49, 64, 81, 100]\n"
     ]
    }
   ],
   "source": [
    "#ans 2\n",
    "l=[1,2,3,4,5,6,7,8,9,10]\n",
    "print(list(map(lambda x : x**2 , l)))"
   ]
  },
  {
   "cell_type": "code",
   "execution_count": 22,
   "id": "ce09b701-8c5d-4654-bb6f-684308246049",
   "metadata": {},
   "outputs": [
    {
     "name": "stdout",
     "output_type": "stream",
     "text": [
      "('1', '2', '3', '4', '5', '6', '7', '8', '9', '10')\n"
     ]
    }
   ],
   "source": [
    "#ans 3.\n",
    "l=[1,2,3,4,5,6,7,8,9,10]\n",
    "print(tuple(map(lambda x:str(x),l)))\n"
   ]
  },
  {
   "cell_type": "code",
   "execution_count": 8,
   "id": "65148d62-bdb6-47f6-b10c-aaf2c24177c8",
   "metadata": {},
   "outputs": [
    {
     "name": "stdout",
     "output_type": "stream",
     "text": [
      "15511210043330985984000000\n"
     ]
    }
   ],
   "source": [
    "#ans 4.\n",
    "from functools import reduce\n",
    "l=[1,2,3,4,5,6,7,8,9,10,11,12,13,14,15,16,17,18,19,20,21,22,23,24,25]\n",
    "print(reduce(lambda x,y: x*y,l))"
   ]
  },
  {
   "cell_type": "code",
   "execution_count": 3,
   "id": "14561784-edb6-4c2e-b4d6-65e47fdf156a",
   "metadata": {},
   "outputs": [
    {
     "name": "stdout",
     "output_type": "stream",
     "text": [
      "[6, 60, 90, 120]\n"
     ]
    }
   ],
   "source": [
    "#ans 5.\n",
    "l=[2,3,6,9,27,60,90,120,55,46]\n",
    "print(list(filter(lambda x: x%2==0 and x%3==0 ,l)))"
   ]
  },
  {
   "cell_type": "code",
   "execution_count": 4,
   "id": "0aecaca7-3257-4e0c-bde5-1d590c522748",
   "metadata": {},
   "outputs": [
    {
     "name": "stdout",
     "output_type": "stream",
     "text": [
      "<filter object at 0x7f2794cdab60>\n"
     ]
    }
   ],
   "source": [
    "#ans 6.\n",
    "l2=['python','php','aba','radar','level']\n",
    "print(filter(lambda x:x[::-1],l2))"
   ]
  },
  {
   "cell_type": "code",
   "execution_count": null,
   "id": "a08cf484-b3fd-41b6-b2e9-5017716d11df",
   "metadata": {},
   "outputs": [],
   "source": []
  }
 ],
 "metadata": {
  "kernelspec": {
   "display_name": "Python 3 (ipykernel)",
   "language": "python",
   "name": "python3"
  },
  "language_info": {
   "codemirror_mode": {
    "name": "ipython",
    "version": 3
   },
   "file_extension": ".py",
   "mimetype": "text/x-python",
   "name": "python",
   "nbconvert_exporter": "python",
   "pygments_lexer": "ipython3",
   "version": "3.10.8"
  }
 },
 "nbformat": 4,
 "nbformat_minor": 5
}
